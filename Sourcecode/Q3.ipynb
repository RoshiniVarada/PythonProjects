{
 "cells": [
  {
   "cell_type": "code",
   "execution_count": 1,
   "metadata": {},
   "outputs": [],
   "source": [
    "from pathlib import Path\n",
    "import pandas as pd\n",
    "import numpy as np\n",
    "import matplotlib.pyplot as plt\n",
    "from sklearn import linear_model\n",
    "from sklearn.metrics import mean_squared_error\n",
    "from sklearn.model_selection import train_test_split"
   ]
  },
  {
   "cell_type": "code",
   "execution_count": 2,
   "metadata": {},
   "outputs": [
    {
     "name": "stdout",
     "output_type": "stream",
     "text": [
      "                  Formatted Date        Summary Precip Type  Temperature (C)  \\\n",
      "0  2006-04-01 00:00:00.000 +0200  Partly Cloudy        rain         9.472222   \n",
      "1  2006-04-01 01:00:00.000 +0200  Partly Cloudy        rain         9.355556   \n",
      "2  2006-04-01 02:00:00.000 +0200  Mostly Cloudy        rain         9.377778   \n",
      "3  2006-04-01 03:00:00.000 +0200  Partly Cloudy        rain         8.288889   \n",
      "4  2006-04-01 04:00:00.000 +0200  Mostly Cloudy        rain         8.755556   \n",
      "\n",
      "   Apparent Temperature (C)  Humidity  Wind Speed (km/h)  \\\n",
      "0                  7.388889      0.89            14.1197   \n",
      "1                  7.227778      0.86            14.2646   \n",
      "2                  9.377778      0.89             3.9284   \n",
      "3                  5.944444      0.83            14.1036   \n",
      "4                  6.977778      0.83            11.0446   \n",
      "\n",
      "   Wind Bearing (degrees)  Visibility (km)  Loud Cover  Pressure (millibars)  \\\n",
      "0                   251.0          15.8263         0.0               1015.13   \n",
      "1                   259.0          15.8263         0.0               1015.63   \n",
      "2                   204.0          14.9569         0.0               1015.94   \n",
      "3                   269.0          15.8263         0.0               1016.41   \n",
      "4                   259.0          15.8263         0.0               1016.51   \n",
      "\n",
      "                       Daily Summary  \n",
      "0  Partly cloudy throughout the day.  \n",
      "1  Partly cloudy throughout the day.  \n",
      "2  Partly cloudy throughout the day.  \n",
      "3  Partly cloudy throughout the day.  \n",
      "4  Partly cloudy throughout the day.  \n"
     ]
    }
   ],
   "source": [
    "#Load the Data\n",
    "weather = pd.read_csv('weather.csv')\n",
    "print(weather.head(5))"
   ]
  },
  {
   "cell_type": "code",
   "execution_count": 3,
   "metadata": {},
   "outputs": [
    {
     "name": "stdout",
     "output_type": "stream",
     "text": [
      "Formatted Date               object\n",
      "Summary                      object\n",
      "Precip Type                  object\n",
      "Temperature (C)             float64\n",
      "Apparent Temperature (C)    float64\n",
      "Humidity                    float64\n",
      "Wind Speed (km/h)           float64\n",
      "Wind Bearing (degrees)      float64\n",
      "Visibility (km)             float64\n",
      "Loud Cover                  float64\n",
      "Pressure (millibars)        float64\n",
      "Daily Summary                object\n",
      "dtype: object\n"
     ]
    }
   ],
   "source": [
    "print(weather.dtypes)"
   ]
  },
  {
   "cell_type": "code",
   "execution_count": 4,
   "metadata": {},
   "outputs": [],
   "source": [
    "##RENAMING COLUMNS"
   ]
  },
  {
   "cell_type": "code",
   "execution_count": 5,
   "metadata": {},
   "outputs": [],
   "source": [
    "weather = weather.rename(columns={'Formatted Date': 'Date', 'Summary': 'Summary', 'Precip Type': 'PrecipeType', 'Temperature (C)': 'Temperature','Apparent Temperature (C)': 'ApparentTemparature',\n",
    "                                  'Humidity': 'Humidity', 'Wind Speed (km/h)': 'WindSpeed',\"Wind Bearing (degrees)\": 'WindBearing','Visibility (km)':'visibility','Loud Cover':'LoudCover',\n",
    "                                  'Pressure (millibars)':'Pressure','Daily Summary':'DailySum'})"
   ]
  },
  {
   "cell_type": "code",
   "execution_count": 6,
   "metadata": {},
   "outputs": [
    {
     "name": "stdout",
     "output_type": "stream",
     "text": [
      "PrecipeType             object\n",
      "Temperature            float64\n",
      "ApparentTemparature    float64\n",
      "Humidity               float64\n",
      "WindSpeed              float64\n",
      "WindBearing            float64\n",
      "visibility             float64\n",
      "LoudCover              float64\n",
      "Pressure               float64\n",
      "dtype: object\n"
     ]
    }
   ],
   "source": [
    "\n",
    "weather = weather.drop(['Date','Summary','DailySum'],axis=1)\n",
    "print(weather.dtypes)"
   ]
  },
  {
   "cell_type": "code",
   "execution_count": 7,
   "metadata": {},
   "outputs": [
    {
     "data": {
      "text/plain": [
       "count     95936\n",
       "unique        2\n",
       "top        rain\n",
       "freq      85224\n",
       "Name: PrecipeType, dtype: object"
      ]
     },
     "execution_count": 7,
     "metadata": {},
     "output_type": "execute_result"
    }
   ],
   "source": [
    "weather['PrecipeType'].describe()"
   ]
  },
  {
   "cell_type": "code",
   "execution_count": 8,
   "metadata": {},
   "outputs": [],
   "source": [
    "n_features = weather.select_dtypes(include=[np.number])"
   ]
  },
  {
   "cell_type": "code",
   "execution_count": 9,
   "metadata": {},
   "outputs": [
    {
     "name": "stdout",
     "output_type": "stream",
     "text": [
      "                     Null Count\n",
      "Feature                        \n",
      "PrecipeType                 517\n",
      "Pressure                      0\n",
      "LoudCover                     0\n",
      "visibility                    0\n",
      "WindBearing                   0\n",
      "WindSpeed                     0\n",
      "Humidity                      0\n",
      "ApparentTemparature           0\n",
      "Temperature                   0\n"
     ]
    }
   ],
   "source": [
    "# Null values\n",
    "nulls = pd.DataFrame(weather.isnull().sum().sort_values(ascending=False))\n",
    "nulls.columns = ['Null Count']\n",
    "nulls.index.name = 'Feature'\n",
    "print(nulls)"
   ]
  },
  {
   "cell_type": "code",
   "execution_count": 10,
   "metadata": {},
   "outputs": [
    {
     "name": "stdout",
     "output_type": "stream",
     "text": [
      "                     Null Count\n",
      "Feature                        \n",
      "Pressure                      0\n",
      "LoudCover                     0\n",
      "visibility                    0\n",
      "WindBearing                   0\n",
      "WindSpeed                     0\n",
      "Humidity                      0\n",
      "ApparentTemparature           0\n",
      "Temperature                   0\n",
      "PrecipeType                   0\n"
     ]
    }
   ],
   "source": [
    "#handling missing values\n",
    "common_value = 'rain'\n",
    "weather['PrecipeType'] = weather['PrecipeType'].fillna(common_value)\n",
    "# Null values\n",
    "nulls = pd.DataFrame(weather.isnull().sum().sort_values(ascending=False))\n",
    "nulls.columns = ['Null Count']\n",
    "nulls.index.name = 'Feature'\n",
    "print(nulls)"
   ]
  },
  {
   "cell_type": "code",
   "execution_count": 11,
   "metadata": {},
   "outputs": [
    {
     "name": "stdout",
     "output_type": "stream",
     "text": [
      "weather.count PrecipeType            96453\n",
      "Temperature            96453\n",
      "ApparentTemparature    96453\n",
      "Humidity               96453\n",
      "WindSpeed              96453\n",
      "WindBearing            96453\n",
      "visibility             96453\n",
      "LoudCover              96453\n",
      "Pressure               96453\n",
      "dtype: int64\n"
     ]
    }
   ],
   "source": [
    "\n",
    "print('weather.count',weather.count())"
   ]
  },
  {
   "cell_type": "code",
   "execution_count": 12,
   "metadata": {},
   "outputs": [
    {
     "data": {
      "text/plain": [
       "count     96453\n",
       "unique        2\n",
       "top        rain\n",
       "freq      85741\n",
       "Name: PrecipeType, dtype: object"
      ]
     },
     "execution_count": 12,
     "metadata": {},
     "output_type": "execute_result"
    }
   ],
   "source": [
    "weather['PrecipeType'].describe()\n"
   ]
  },
  {
   "cell_type": "code",
   "execution_count": 13,
   "metadata": {},
   "outputs": [
    {
     "name": "stdout",
     "output_type": "stream",
     "text": [
      "PrecipeType             object\n",
      "Temperature            float64\n",
      "ApparentTemparature    float64\n",
      "Humidity               float64\n",
      "WindSpeed              float64\n",
      "WindBearing            float64\n",
      "visibility             float64\n",
      "LoudCover              float64\n",
      "Pressure               float64\n",
      "dtype: object\n"
     ]
    }
   ],
   "source": [
    "print(weather.dtypes)"
   ]
  },
  {
   "cell_type": "code",
   "execution_count": 14,
   "metadata": {},
   "outputs": [
    {
     "data": {
      "text/plain": [
       "<matplotlib.axes._subplots.AxesSubplot at 0x2a8e13d8d08>"
      ]
     },
     "execution_count": 14,
     "metadata": {},
     "output_type": "execute_result"
    },
    {
     "data": {
      "image/png": "[encoded data removed]",
      "text/plain": [
       "<Figure size 432x288 with 1 Axes>"
      ]
     },
     "metadata": {
      "needs_background": "light"
     },
     "output_type": "display_data"
    }
   ],
   "source": [
    "import seaborn as sns\n",
    "sns.barplot(x='PrecipeType', y='Temperature', data=weather)"
   ]
  },
  {
   "cell_type": "code",
   "execution_count": 15,
   "metadata": {},
   "outputs": [],
   "source": [
    "weather[\"PrecipeType\"] = weather[\"PrecipeType\"].map({'rain':1,'snow':0}).astype(float)"
   ]
  },
  {
   "cell_type": "code",
   "execution_count": 16,
   "metadata": {},
   "outputs": [
    {
     "name": "stdout",
     "output_type": "stream",
     "text": [
      "The top 3 correlated features \n",
      "\n",
      "Temperature            1.000000\n",
      "ApparentTemparature    0.992629\n",
      "visibility             0.392847\n",
      "Name: Temperature, dtype: float64 \n",
      "\n"
     ]
    }
   ],
   "source": [
    "# Working with correlated features\n",
    "corr = n_features.corr()\n",
    "print('The top 3 correlated features \\n')\n",
    "print(corr['Temperature'].sort_values(ascending=False)[:3], '\\n')"
   ]
  },
  {
   "cell_type": "code",
   "execution_count": 17,
   "metadata": {},
   "outputs": [
    {
     "data": {
      "image/png": "[encoded data removed]",
      "text/plain": [
       "<Figure size 792x792 with 9 Axes>"
      ]
     },
     "metadata": {
      "needs_background": "light"
     },
     "output_type": "display_data"
    }
   ],
   "source": [
    "import matplotlib.pyplot as plt\n",
    "weather[weather.dtypes[(weather.dtypes==\"float64\")|(weather.dtypes==\"int64\")]\n",
    "                      .index.values].hist(figsize=[11,11])\n",
    "plt.show();"
   ]
  },
  {
   "cell_type": "code",
   "execution_count": 18,
   "metadata": {},
   "outputs": [
    {
     "data": {
      "text/plain": [
       "<matplotlib.axes._subplots.AxesSubplot at 0x2a8e3883148>"
      ]
     },
     "execution_count": 18,
     "metadata": {},
     "output_type": "execute_result"
    },
    {
     "data": {
      "image/png": "[encoded data removed]",
      "text/plain": [
       "<Figure size 432x288 with 1 Axes>"
      ]
     },
     "metadata": {
      "needs_background": "light"
     },
     "output_type": "display_data"
    }
   ],
   "source": [
    "import seaborn as sns\n",
    "sns.barplot(x='LoudCover', y='Temperature', data=weather)"
   ]
  },
  {
   "cell_type": "code",
   "execution_count": 19,
   "metadata": {},
   "outputs": [
    {
     "name": "stdout",
     "output_type": "stream",
     "text": [
      "PrecipeType            float64\n",
      "Temperature            float64\n",
      "ApparentTemparature    float64\n",
      "Humidity               float64\n",
      "WindSpeed              float64\n",
      "WindBearing            float64\n",
      "visibility             float64\n",
      "Pressure               float64\n",
      "dtype: object\n"
     ]
    }
   ],
   "source": [
    "\n",
    "weather = weather.drop(['LoudCover'],axis=1)\n",
    "print(weather.dtypes)"
   ]
  },
  {
   "cell_type": "code",
   "execution_count": 20,
   "metadata": {},
   "outputs": [],
   "source": [
    "y_data1 =  weather[\"ApparentTemparature\"]\n",
    "y_data2 = weather[\"WindSpeed\"]\n",
    "x_data = weather[\"Temperature\"]"
   ]
  },
  {
   "cell_type": "code",
   "execution_count": 21,
   "metadata": {},
   "outputs": [
    {
     "data": {
      "image/png": "[encoded data removed]",
      "text/plain": [
       "<Figure size 432x288 with 2 Axes>"
      ]
     },
     "metadata": {
      "needs_background": "light"
     },
     "output_type": "display_data"
    }
   ],
   "source": [
    "fig = plt.figure()\n",
    "plt.rcParams['figure.figsize']=(10,10)\n",
    "\n",
    "ax1 = fig.add_subplot(1, 2, 1)\n",
    "ax2 = fig.add_subplot(1, 2, 2)\n",
    "ax1.plot(x_data, y_data1, label='data 1')\n",
    "ax2.plot(x_data, y_data2, label='data 2')\n",
    "ax1.set_xlabel('Temperature')\n",
    "ax1.set_ylabel('ApparentTemparature')\n",
    "ax2.set_xlabel('Temperature')\n",
    "ax2.set_ylabel('WindSpeed')\n",
    "\n",
    "plt.show()"
   ]
  },
  {
   "cell_type": "code",
   "execution_count": 22,
   "metadata": {},
   "outputs": [],
   "source": [
    "# Build a linear model\n",
    "x_train = weather.drop(\"Temperature\",axis=1)\n",
    "y_train = weather[\"Temperature\"]"
   ]
  },
  {
   "cell_type": "code",
   "execution_count": 23,
   "metadata": {},
   "outputs": [],
   "source": [
    "x_train, x_test, y_train, y_test= train_test_split(x_train, y_train, test_size=0.3, random_state=0)"
   ]
  },
  {
   "cell_type": "code",
   "execution_count": 24,
   "metadata": {},
   "outputs": [],
   "source": [
    "lr = linear_model.LinearRegression()\n",
    "model = lr.fit(x_train, y_train)"
   ]
  },
  {
   "cell_type": "code",
   "execution_count": 25,
   "metadata": {},
   "outputs": [
    {
     "name": "stdout",
     "output_type": "stream",
     "text": [
      "R^2 is:  0.9901843185397304\n"
     ]
    }
   ],
   "source": [
    "# Evaluate the performance,R2 and RMSE\n",
    "print(\"R^2 is: \", model.score(x_test, y_test))\n",
    "predictions = model.predict(x_test)\n"
   ]
  },
  {
   "cell_type": "code",
   "execution_count": 26,
   "metadata": {},
   "outputs": [
    {
     "name": "stdout",
     "output_type": "stream",
     "text": [
      "RMSE is:  0.8945839949865272\n"
     ]
    }
   ],
   "source": [
    "print('RMSE is: ', mean_squared_error(y_test, predictions))"
   ]
  },
  {
   "cell_type": "code",
   "execution_count": 27,
   "metadata": {},
   "outputs": [],
   "source": [
    "#Traning with correlated features\n",
    "x_train = weather[[\"ApparentTemparature\",\"visibility\"]]\n",
    "y_train = weather[\"Temperature\"]"
   ]
  },
  {
   "cell_type": "code",
   "execution_count": 28,
   "metadata": {},
   "outputs": [],
   "source": [
    "x_train, x_test, y_train, y_test= train_test_split(x_train, y_train, test_size=0.3, random_state=0)"
   ]
  },
  {
   "cell_type": "code",
   "execution_count": 29,
   "metadata": {},
   "outputs": [],
   "source": [
    "lr = linear_model.LinearRegression()\n",
    "model = lr.fit(x_train, y_train)"
   ]
  },
  {
   "cell_type": "code",
   "execution_count": 30,
   "metadata": {},
   "outputs": [
    {
     "name": "stdout",
     "output_type": "stream",
     "text": [
      "R^2 is:  0.9855786076842652\n"
     ]
    }
   ],
   "source": [
    "# Evaluate the performance,R2 and RMSE\n",
    "print(\"R^2 is: \", model.score(x_test, y_test))\n",
    "predictions = model.predict(x_test)\n"
   ]
  },
  {
   "cell_type": "code",
   "execution_count": 31,
   "metadata": {},
   "outputs": [
    {
     "name": "stdout",
     "output_type": "stream",
     "text": [
      "RMSE is:  1.3143404055334567\n"
     ]
    }
   ],
   "source": [
    "print('RMSE is: ', mean_squared_error(y_test, predictions))"
   ]
  },
  {
   "cell_type": "code",
   "execution_count": null,
   "metadata": {},
   "outputs": [],
   "source": []
  }
 ],
 "metadata": {
  "kernelspec": {
   "display_name": "Python 3",
   "language": "python",
   "name": "python3"
  },
  "language_info": {
   "codemirror_mode": {
    "name": "ipython",
    "version": 3
   },
   "file_extension": ".py",
   "mimetype": "text/x-python",
   "name": "python",
   "nbconvert_exporter": "python",
   "pygments_lexer": "ipython3",
   "version": "3.7.6"
  }
 },
 "nbformat": 4,
 "nbformat_minor": 4
}
