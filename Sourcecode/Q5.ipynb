{
 "cells": [
  {
   "cell_type": "code",
   "execution_count": 4,
   "metadata": {},
   "outputs": [],
   "source": [
    "from pathlib import Path\n",
    "import pandas as pd\n",
    "import numpy as np\n",
    "import matplotlib.pyplot as plt\n",
    "from sklearn import linear_model\n",
    "from sklearn.metrics import mean_squared_error\n",
    "from sklearn.model_selection import train_test_split\n",
    "from sklearn.naive_bayes import GaussianNB\n",
    "from sklearn.metrics import classification_report\n",
    "from sklearn.svm import SVC"
   ]
  },
  {
   "cell_type": "code",
   "execution_count": 31,
   "metadata": {},
   "outputs": [
    {
     "name": "stdout",
     "output_type": "stream",
     "text": [
      "   PassengerId  Survived  Pclass  \\\n",
      "0            1         0       3   \n",
      "1            2         1       1   \n",
      "2            3         1       3   \n",
      "3            4         1       1   \n",
      "4            5         0       3   \n",
      "\n",
      "                                                Name     Sex   Age  SibSp  \\\n",
      "0                            Braund, Mr. Owen Harris    male  22.0      1   \n",
      "1  Cumings, Mrs. John Bradley (Florence Briggs Th...  female  38.0      1   \n",
      "2                             Heikkinen, Miss. Laina  female  26.0      0   \n",
      "3       Futrelle, Mrs. Jacques Heath (Lily May Peel)  female  35.0      1   \n",
      "4                           Allen, Mr. William Henry    male  35.0      0   \n",
      "\n",
      "   Parch            Ticket     Fare Cabin Embarked  \n",
      "0      0         A/5 21171   7.2500   NaN        S  \n",
      "1      0          PC 17599  71.2833   C85        C  \n",
      "2      0  STON/O2. 3101282   7.9250   NaN        S  \n",
      "3      0            113803  53.1000  C123        S  \n",
      "4      0            373450   8.0500   NaN        S  \n"
     ]
    }
   ],
   "source": [
    "train = pd.read_csv('train.csv')\n",
    "print(train.head(5))"
   ]
  },
  {
   "cell_type": "code",
   "execution_count": 6,
   "metadata": {},
   "outputs": [],
   "source": [
    "n_features = train.select_dtypes(include=[np.number])\n",
    "train = train.drop(['PassengerId'],axis=1)"
   ]
  },
  {
   "cell_type": "code",
   "execution_count": 7,
   "metadata": {},
   "outputs": [],
   "source": [
    "def handle_non_numerical_data(train):\n",
    "    cols = train.columns.values\n",
    "    for col in cols:\n",
    "        text_digit_vals = {}\n",
    "        def convert_to_int(val):\n",
    "            return text_digit_vals[val]\n",
    "\n",
    "        if train[col].dtype != np.int64 and train[col].dtype != np.float64:\n",
    "            column_contents = train[col].values.tolist()\n",
    "            unique_elements = set(column_contents)\n",
    "            x = 0\n",
    "            for unique in unique_elements:\n",
    "                if unique not in text_digit_vals:\n",
    "                    text_digit_vals[unique] = x\n",
    "                    x+=1\n",
    "\n",
    "            train[col] = list(map(convert_to_int, train[col]))\n",
    "\n",
    "    return train"
   ]
  },
  {
   "cell_type": "code",
   "execution_count": 9,
   "metadata": {},
   "outputs": [
    {
     "name": "stdout",
     "output_type": "stream",
     "text": [
      "   Survived  Pclass  Name  Sex   Age  SibSp  Parch  Ticket     Fare  Cabin  \\\n",
      "0         0       3   266    0  22.0      1      0     344   7.2500      0   \n",
      "1         1       1   110    1  38.0      1      0     411  71.2833     75   \n",
      "2         1       3   130    1  26.0      0      0     111   7.9250      0   \n",
      "3         1       1   646    1  35.0      1      0     271  53.1000    138   \n",
      "4         0       3   501    0  35.0      0      0     224   8.0500      0   \n",
      "\n",
      "   Embarked  \n",
      "0         1  \n",
      "1         3  \n",
      "2         1  \n",
      "3         1  \n",
      "4         1  \n"
     ]
    }
   ],
   "source": [
    "train = handle_non_numerical_data(train)\n",
    "print(train.head())\n"
   ]
  },
  {
   "cell_type": "code",
   "execution_count": 10,
   "metadata": {},
   "outputs": [
    {
     "name": "stdout",
     "output_type": "stream",
     "text": [
      "Survived      int64\n",
      "Pclass        int64\n",
      "Name          int64\n",
      "Sex           int64\n",
      "Age         float64\n",
      "SibSp         int64\n",
      "Parch         int64\n",
      "Ticket        int64\n",
      "Fare        float64\n",
      "Cabin         int64\n",
      "Embarked      int64\n",
      "dtype: object\n"
     ]
    }
   ],
   "source": [
    "print(train.dtypes)"
   ]
  },
  {
   "cell_type": "code",
   "execution_count": 11,
   "metadata": {},
   "outputs": [
    {
     "name": "stdout",
     "output_type": "stream",
     "text": [
      "          Null Count\n",
      "Feature             \n",
      "Age              177\n",
      "Embarked           0\n",
      "Cabin              0\n",
      "Fare               0\n",
      "Ticket             0\n",
      "Parch              0\n",
      "SibSp              0\n",
      "Sex                0\n",
      "Name               0\n",
      "Pclass             0\n",
      "Survived           0\n"
     ]
    }
   ],
   "source": [
    "# Null values\n",
    "nulls = pd.DataFrame(train.isnull().sum().sort_values(ascending=False))\n",
    "nulls.columns = ['Null Count']\n",
    "nulls.index.name = 'Feature'\n",
    "print(nulls)"
   ]
  },
  {
   "cell_type": "code",
   "execution_count": 12,
   "metadata": {},
   "outputs": [
    {
     "name": "stdout",
     "output_type": "stream",
     "text": [
      "          Null Count\n",
      "Feature             \n",
      "Embarked           0\n",
      "Cabin              0\n",
      "Fare               0\n",
      "Ticket             0\n",
      "Parch              0\n",
      "SibSp              0\n",
      "Age                0\n",
      "Sex                0\n",
      "Name               0\n",
      "Pclass             0\n",
      "Survived           0\n"
     ]
    }
   ],
   "source": [
    "##handling missing value\n",
    "train['Age'].fillna(train['Age'].mean(), inplace=True)\n",
    "nullsnew = pd.DataFrame(train.isnull().sum().sort_values(ascending=False))\n",
    "nullsnew.columns  = ['Null Count']\n",
    "nullsnew.index.name  = 'Feature'\n",
    "print(nullsnew)"
   ]
  },
  {
   "cell_type": "code",
   "execution_count": 13,
   "metadata": {},
   "outputs": [
    {
     "name": "stdout",
     "output_type": "stream",
     "text": [
      "The top 3 correlated features \n",
      "\n",
      "Survived    1.000000\n",
      "Fare        0.257307\n",
      "Parch       0.081629\n",
      "Name: Survived, dtype: float64 \n",
      "\n"
     ]
    }
   ],
   "source": [
    "# CORRELATED FEATURES\n",
    "corr = n_features.corr()\n",
    "print('The top 3 correlated features \\n')\n",
    "print(corr['Survived'].sort_values(ascending=False)[:3], '\\n')"
   ]
  },
  {
   "cell_type": "code",
   "execution_count": 14,
   "metadata": {},
   "outputs": [
    {
     "data": {
      "image/png": "[encoded data removed]",
      "text/plain": [
       "<Figure size 1080x1080 with 12 Axes>"
      ]
     },
     "metadata": {
      "needs_background": "light"
     },
     "output_type": "display_data"
    }
   ],
   "source": [
    "import matplotlib.pyplot as plt\n",
    "train[train.dtypes[(train.dtypes==\"float64\")|(train.dtypes==\"int64\")]\n",
    "                      .index.values].hist(figsize=[15,15])\n",
    "plt.show();\n"
   ]
  },
  {
   "cell_type": "code",
   "execution_count": 15,
   "metadata": {},
   "outputs": [],
   "source": [
    "x_train = np.array(train.drop(['Survived'], 1).astype(float))\n",
    "y_train = np.array(train['Survived'])"
   ]
  },
  {
   "cell_type": "code",
   "execution_count": 16,
   "metadata": {},
   "outputs": [],
   "source": [
    "x_train, x_test, y_train, y_test= train_test_split(x_train, y_train, test_size=0.3, random_state=0)"
   ]
  },
  {
   "cell_type": "code",
   "execution_count": 17,
   "metadata": {},
   "outputs": [
    {
     "name": "stdout",
     "output_type": "stream",
     "text": [
      "Accuracy Score: 77.99\n"
     ]
    }
   ],
   "source": [
    "\n",
    "#Naive Bayes\n",
    "\n",
    "guassian = GaussianNB()\n",
    "guassian.fit(x_train,y_train)\n",
    "y_pred = guassian.predict(x_test)\n",
    "guassian_score = round(guassian.score(x_test,y_test) * 100,2)\n",
    "\n",
    "print(\"Accuracy Score:\",guassian_score)"
   ]
  },
  {
   "cell_type": "code",
   "execution_count": 18,
   "metadata": {},
   "outputs": [
    {
     "name": "stdout",
     "output_type": "stream",
     "text": [
      "Classification Report:\n",
      "               precision    recall  f1-score   support\n",
      "\n",
      "           0       0.87      0.77      0.81       168\n",
      "           1       0.67      0.80      0.73       100\n",
      "\n",
      "    accuracy                           0.78       268\n",
      "   macro avg       0.77      0.78      0.77       268\n",
      "weighted avg       0.79      0.78      0.78       268\n",
      "\n"
     ]
    }
   ],
   "source": [
    "print(\"Classification Report:\\n\",classification_report(y_test,y_pred))"
   ]
  },
  {
   "cell_type": "code",
   "execution_count": 19,
   "metadata": {},
   "outputs": [
    {
     "name": "stdout",
     "output_type": "stream",
     "text": [
      "SVC Score: 69.4\n"
     ]
    }
   ],
   "source": [
    "#svc\n",
    "\n",
    "svc = SVC()\n",
    "svc.fit(x_train,y_train)\n",
    "y_pred = svc.predict(x_test)\n",
    "svc_accuracy = round(svc.score(x_test, y_test) * 100, 2)\n",
    "\n",
    "print(\"SVC Score:\",svc_accuracy)"
   ]
  },
  {
   "cell_type": "code",
   "execution_count": 20,
   "metadata": {},
   "outputs": [
    {
     "name": "stdout",
     "output_type": "stream",
     "text": [
      "SVC Classification Report:\n",
      "               precision    recall  f1-score   support\n",
      "\n",
      "           0       0.68      0.98      0.80       168\n",
      "           1       0.88      0.21      0.34       100\n",
      "\n",
      "    accuracy                           0.69       268\n",
      "   macro avg       0.78      0.60      0.57       268\n",
      "weighted avg       0.75      0.69      0.63       268\n",
      "\n"
     ]
    }
   ],
   "source": [
    "print(\"SVC Classification Report:\\n\",classification_report(y_test,y_pred))"
   ]
  },
  {
   "cell_type": "code",
   "execution_count": 21,
   "metadata": {},
   "outputs": [],
   "source": [
    "#KNN\n",
    "\n",
    "#import KNeighborsClassifier\n",
    "from sklearn.neighbors import KNeighborsClassifier\n",
    "\n",
    "#Setup arrays to store training and test accuracies\n",
    "neighbors = np.arange(1,9)\n",
    "train_accuracy =np.empty(len(neighbors))\n",
    "test_accuracy = np.empty(len(neighbors))\n",
    "\n",
    "for i,k in enumerate(neighbors):\n",
    "    #Setup a knn classifier with k neighbors\n",
    "    knn = KNeighborsClassifier(n_neighbors=k)\n",
    "    \n",
    "    #Fit the model\n",
    "    knn.fit(x_train, y_train)\n",
    "    \n",
    "    #Compute accuracy on the training set\n",
    "    train_accuracy[i] = knn.score(x_train, y_train)\n",
    "    \n",
    "    #Compute accuracy on the test set\n",
    "    test_accuracy[i] = knn.score(x_test, y_test)"
   ]
  },
  {
   "cell_type": "code",
   "execution_count": 22,
   "metadata": {},
   "outputs": [
    {
     "data": {
      "image/png": "[encoded data removed]",
      "text/plain": [
       "<Figure size 432x288 with 1 Axes>"
      ]
     },
     "metadata": {
      "needs_background": "light"
     },
     "output_type": "display_data"
    }
   ],
   "source": [
    "#Generate plot\n",
    "plt.title('k-NN Varying number of neighbors')\n",
    "plt.plot(neighbors, test_accuracy, label='Testing Accuracy')\n",
    "plt.plot(neighbors, train_accuracy, label='Training accuracy')\n",
    "plt.legend()\n",
    "plt.xlabel('Number of neighbors')\n",
    "plt.ylabel('Accuracy')\n",
    "plt.show()"
   ]
  },
  {
   "cell_type": "code",
   "execution_count": 24,
   "metadata": {},
   "outputs": [
    {
     "name": "stdout",
     "output_type": "stream",
     "text": [
      "KNN Score: 63.06\n"
     ]
    }
   ],
   "source": [
    "#Setup a knn classifier with k neighbors\n",
    "knn = KNeighborsClassifier(n_neighbors=6)\n",
    "\n",
    "#Fit the model\n",
    "knn.fit(x_train,y_train)\n",
    "y_pred = knn.predict(x_test)\n",
    "knn_accuracy = round(knn.score(x_test, y_test) * 100, 2)\n",
    "\n",
    "print(\"KNN Score:\",knn_accuracy)"
   ]
  },
  {
   "cell_type": "code",
   "execution_count": 25,
   "metadata": {},
   "outputs": [
    {
     "name": "stdout",
     "output_type": "stream",
     "text": [
      "KNN Classification Report:\n",
      "               precision    recall  f1-score   support\n",
      "\n",
      "           0       0.65      0.90      0.75       168\n",
      "           1       0.52      0.17      0.26       100\n",
      "\n",
      "    accuracy                           0.63       268\n",
      "   macro avg       0.58      0.54      0.50       268\n",
      "weighted avg       0.60      0.63      0.57       268\n",
      "\n"
     ]
    }
   ],
   "source": [
    "print(\"KNN Classification Report:\\n\",classification_report(y_test,y_pred))"
   ]
  },
  {
   "cell_type": "code",
   "execution_count": 27,
   "metadata": {},
   "outputs": [
    {
     "name": "stdout",
     "output_type": "stream",
     "text": [
      "SVM linear Score: 79.1\n"
     ]
    }
   ],
   "source": [
    "# Linear SVM\n",
    "from sklearn import svm\n",
    "svc = svm.SVC(kernel='linear')\n",
    "svc.fit(x_train,y_train)\n",
    "y_pred = svc.predict(x_test)\n",
    "svclinear_accuracy = round(svc.score(x_test, y_test) * 100, 2)\n",
    "print(\"SVM linear Score:\",svclinear_accuracy)"
   ]
  },
  {
   "cell_type": "code",
   "execution_count": 28,
   "metadata": {},
   "outputs": [
    {
     "name": "stdout",
     "output_type": "stream",
     "text": [
      "SVM linear Classification Report:\n",
      "               precision    recall  f1-score   support\n",
      "\n",
      "           0       0.83      0.85      0.84       168\n",
      "           1       0.73      0.70      0.71       100\n",
      "\n",
      "    accuracy                           0.79       268\n",
      "   macro avg       0.78      0.77      0.77       268\n",
      "weighted avg       0.79      0.79      0.79       268\n",
      "\n"
     ]
    }
   ],
   "source": [
    "print(\"SVM linear Classification Report:\\n\",classification_report(y_test,y_pred))"
   ]
  },
  {
   "cell_type": "code",
   "execution_count": 29,
   "metadata": {},
   "outputs": [
    {
     "name": "stdout",
     "output_type": "stream",
     "text": [
      "SVM nonlinear Score: 69.4\n"
     ]
    }
   ],
   "source": [
    "# NonLinear SVM\n",
    "from sklearn import svm\n",
    "svc = svm.SVC(kernel='rbf')\n",
    "svc.fit(x_train,y_train)\n",
    "y_pred = svc.predict(x_test)\n",
    "svclinear_accuracy = round(svc.score(x_test, y_test) * 100, 2)\n",
    "\n",
    "print(\"SVM nonlinear Score:\",svclinear_accuracy)"
   ]
  },
  {
   "cell_type": "code",
   "execution_count": 30,
   "metadata": {},
   "outputs": [
    {
     "name": "stdout",
     "output_type": "stream",
     "text": [
      "SVM onlinear Classification Report:\n",
      "               precision    recall  f1-score   support\n",
      "\n",
      "           0       0.68      0.98      0.80       168\n",
      "           1       0.88      0.21      0.34       100\n",
      "\n",
      "    accuracy                           0.69       268\n",
      "   macro avg       0.78      0.60      0.57       268\n",
      "weighted avg       0.75      0.69      0.63       268\n",
      "\n"
     ]
    }
   ],
   "source": [
    "print(\"SVM onlinear Classification Report:\\n\",classification_report(y_test,y_pred))"
   ]
  },
  {
   "cell_type": "code",
   "execution_count": null,
   "metadata": {},
   "outputs": [],
   "source": []
  }
 ],
 "metadata": {
  "kernelspec": {
   "display_name": "Python 3",
   "language": "python",
   "name": "python3"
  },
  "language_info": {
   "codemirror_mode": {
    "name": "ipython",
    "version": 3
   },
   "file_extension": ".py",
   "mimetype": "text/x-python",
   "name": "python",
   "nbconvert_exporter": "python",
   "pygments_lexer": "ipython3",
   "version": "3.7.6"
  }
 },
 "nbformat": 4,
 "nbformat_minor": 4
}
